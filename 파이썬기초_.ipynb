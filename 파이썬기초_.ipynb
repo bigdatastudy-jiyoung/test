{
  "nbformat": 4,
  "nbformat_minor": 0,
  "metadata": {
    "colab": {
      "name": "파이썬기초 .ipynb",
      "provenance": []
    },
    "kernelspec": {
      "name": "python3",
      "display_name": "Python 3"
    }
  },
  "cells": [
    {
      "cell_type": "code",
      "metadata": {
        "id": "lJSPyyoyJKeC",
        "colab_type": "code",
        "colab": {
          "base_uri": "https://localhost:8080/",
          "height": 35
        },
        "outputId": "b2699890-5c80-417a-d39f-e5fe910a0ef1"
      },
      "source": [
        "print(\"hello\")"
      ],
      "execution_count": 1,
      "outputs": [
        {
          "output_type": "stream",
          "text": [
            "hello\n"
          ],
          "name": "stdout"
        }
      ]
    },
    {
      "cell_type": "code",
      "metadata": {
        "id": "zcA5y2kXMZjt",
        "colab_type": "code",
        "colab": {
          "base_uri": "https://localhost:8080/",
          "height": 35
        },
        "outputId": "488c7da8-0567-44d9-defc-24f80c097b75"
      },
      "source": [
        "str1=1\n",
        "str2=\"Hello\"\n",
        "str3='Hello'\n",
        "str4=str1\n",
        "\n",
        "print(str1)"
      ],
      "execution_count": 2,
      "outputs": [
        {
          "output_type": "stream",
          "text": [
            "1\n"
          ],
          "name": "stdout"
        }
      ]
    },
    {
      "cell_type": "code",
      "metadata": {
        "id": "FXXnPMrLMuf7",
        "colab_type": "code",
        "colab": {
          "base_uri": "https://localhost:8080/",
          "height": 35
        },
        "outputId": "1f219c05-9754-49ea-c1cb-e801bfbb84ee"
      },
      "source": [
        "a=input(\"당신의 이름은 :\")"
      ],
      "execution_count": 3,
      "outputs": [
        {
          "output_type": "stream",
          "text": [
            "당신의 이름은 :\n"
          ],
          "name": "stdout"
        }
      ]
    },
    {
      "cell_type": "code",
      "metadata": {
        "id": "KQY93fX3M5lT",
        "colab_type": "code",
        "colab": {
          "base_uri": "https://localhost:8080/",
          "height": 53
        },
        "outputId": "7b684de1-8831-4116-810a-c3018454a83a"
      },
      "source": [
        "b=input(\"당신의 나이는 \")\n",
        "c=int(b)+10\n",
        "print(\"당신의 10년 후의 나이는\", c)"
      ],
      "execution_count": 7,
      "outputs": [
        {
          "output_type": "stream",
          "text": [
            "당신의 나이는 43\n",
            "당신의 10년 후의 나이는 53\n"
          ],
          "name": "stdout"
        }
      ]
    },
    {
      "cell_type": "code",
      "metadata": {
        "id": "E6qVCycKOnHO",
        "colab_type": "code",
        "colab": {
          "base_uri": "https://localhost:8080/",
          "height": 53
        },
        "outputId": "16137229-cb3c-4a50-d67e-f62594641641"
      },
      "source": [
        "q1=input(\"당신의 나이는 :\")\n",
        "a1=int(q1)\n",
        "if a1>20 :\n",
        "  print(\"당신은 성년입니다 \")\n",
        "else :   #else 앞에 뛰어쓰기 틀렸음 , : 누락했었음 \n",
        "  print(\"당신은 미성년자입니다\")"
      ],
      "execution_count": 4,
      "outputs": [
        {
          "output_type": "stream",
          "text": [
            "당신의 나이는 :56\n",
            "당신은 성년입니다 \n"
          ],
          "name": "stdout"
        }
      ]
    },
    {
      "cell_type": "code",
      "metadata": {
        "id": "bYWxSisqP54u",
        "colab_type": "code",
        "colab": {}
      },
      "source": [
        "a=5\n",
        "b=2\n",
        "plus=a+b\n",
        "minus=a-b\n",
        "div=a/b\n",
        "remainder=a%b\n",
        "power=a**b\n"
      ],
      "execution_count": 0,
      "outputs": []
    },
    {
      "cell_type": "code",
      "metadata": {
        "id": "xK_C_N6EQ0Vv",
        "colab_type": "code",
        "colab": {
          "base_uri": "https://localhost:8080/",
          "height": 161
        },
        "outputId": "5cacdaf5-5ba9-409a-8ca9-c8b844cf5134"
      },
      "source": [
        "a=input(\"첫번째 숫자를 입력하시요:\")\n",
        "b=input(\"두번째 숫자를 입력하시요:\")\n",
        "a1=int(a)\n",
        "b1=int(b)\n",
        "print(\"plus\",a1+b1)\n",
        "print(\"minus\",a1-b1)\n",
        "print(\"div\",a1/b1)\n",
        "print(\"remainder\",a1%b1)\n",
        "print(\"power\",'a1**b1')\n",
        "print(\"plus:\",a1+b1,\"minus:\",a1-b1,\"div:\",a1/b1,\"remainder:\",a1%b1,\"power:\",a1**b1)\n"
      ],
      "execution_count": 12,
      "outputs": [
        {
          "output_type": "stream",
          "text": [
            "첫번째 숫자를 입력하시요:56\n",
            "두번째 숫자를 입력하시요:7\n",
            "plus 63\n",
            "minus 49\n",
            "div 8.0\n",
            "remainder 0\n",
            "power a1**b1\n",
            "plus: 63 minus: 49 div: 8.0 remainder: 0 power: 1727094849536\n"
          ],
          "name": "stdout"
        }
      ]
    },
    {
      "cell_type": "code",
      "metadata": {
        "id": "3rTUAuFPRa_8",
        "colab_type": "code",
        "colab": {
          "base_uri": "https://localhost:8080/",
          "height": 71
        },
        "outputId": "fd16ea73-fcb4-4290-80cc-41dccc62b047"
      },
      "source": [
        "a,b=input(\"숫자 두개를 입력하시요:\").split() #문자열에만 해당하는 것 \n",
        "a1=int(a)\n",
        "b1=int(b)\n",
        "print(\"합:\",a1+b1,\"차:\",a1-b1,\"나머지:\",a1%b1)\n",
        "print(\"합:{}  차:{}  나머지{}\".format(a1+b1,a1-b1,a1%b1))"
      ],
      "execution_count": 8,
      "outputs": [
        {
          "output_type": "stream",
          "text": [
            "숫자 두개를 입력하시요:45 3\n",
            "합: 48 차: 42 나머지: 0\n",
            "합:48  차:42  나머지0\n"
          ],
          "name": "stdout"
        }
      ]
    },
    {
      "cell_type": "code",
      "metadata": {
        "id": "R-89DqpyTHxq",
        "colab_type": "code",
        "colab": {
          "base_uri": "https://localhost:8080/",
          "height": 35
        },
        "outputId": "b6b8b846-f201-4e8b-cf3f-ba9d1ea22243"
      },
      "source": [
        "for i in range(2,100):   #range(100)으로 한경우에 0 이 빠지지 않는다. 그래서 range(2,100)으로 변경 \n",
        "  if i%2==0:          \n",
        "     print(i, end=\" \") #옆으로 출력하는 방법 \n",
        "\n",
        " "
      ],
      "execution_count": 22,
      "outputs": [
        {
          "output_type": "stream",
          "text": [
            "2 4 6 8 10 12 14 16 18 20 22 24 26 28 30 32 34 36 38 40 42 44 46 48 50 52 54 56 58 60 62 64 66 68 70 72 74 76 78 80 82 84 86 88 90 92 94 96 98 "
          ],
          "name": "stdout"
        }
      ]
    },
    {
      "cell_type": "code",
      "metadata": {
        "id": "saKXsmqoUCcw",
        "colab_type": "code",
        "colab": {
          "base_uri": "https://localhost:8080/",
          "height": 35
        },
        "outputId": "c238aeb3-1cc4-4397-a5d7-7d569c4ca9c2"
      },
      "source": [
        "for i in range(2,100,2):\n",
        "  print(i,end=\" \")"
      ],
      "execution_count": 21,
      "outputs": [
        {
          "output_type": "stream",
          "text": [
            "2 4 6 8 10 12 14 16 18 20 22 24 26 28 30 32 34 36 38 40 42 44 46 48 50 52 54 56 58 60 62 64 66 68 70 72 74 76 78 80 82 84 86 88 90 92 94 96 98 "
          ],
          "name": "stdout"
        }
      ]
    },
    {
      "cell_type": "code",
      "metadata": {
        "id": "o4xHWY0IYzIB",
        "colab_type": "code",
        "colab": {
          "base_uri": "https://localhost:8080/",
          "height": 53
        },
        "outputId": "4a9c58d7-d093-46ce-d4b5-9029ff0cd695"
      },
      "source": [
        "a=input(\"점수를 입력하세요:\")\n",
        "b=int(a)\n",
        "if b>=90:\n",
        "  print(\"A학점입니다.\")\n",
        "elif b>=80:\n",
        "  print(\"B학점입니다 \")\n",
        "elif b>=70:\n",
        "  print(\"C학점입니다 \")\n",
        "else:\n",
        "  print(\"낙제입니다\")"
      ],
      "execution_count": 33,
      "outputs": [
        {
          "output_type": "stream",
          "text": [
            "점수를 입력하세요:56\n",
            "낙제입니다\n"
          ],
          "name": "stdout"
        }
      ]
    },
    {
      "cell_type": "code",
      "metadata": {
        "id": "UcJ0WQ8RaB9x",
        "colab_type": "code",
        "colab": {
          "base_uri": "https://localhost:8080/",
          "height": 89
        },
        "outputId": "a350c0c3-bce6-419e-8cc0-9c61bd468a94"
      },
      "source": [
        "a,b,c=input(\"국어, 수학, 영어 점수를 차례대로 넣으세요:\").split()\n",
        "s1=int(a)\n",
        "s2=int(b)\n",
        "s3=int(c)\n",
        "for i in (s1,s2,s3):\n",
        "  if i>=90:\n",
        "    print(\"A 학점입니다.\")\n",
        "  elif i>=80:\n",
        "    pritn(\"B 학점입니다.\")\n",
        "  elif i>=70:\n",
        "    print(\"C 학점입니다.\")\n",
        "  else :\n",
        "    print(\" 낙제입니다\")\n"
      ],
      "execution_count": 14,
      "outputs": [
        {
          "output_type": "stream",
          "text": [
            "국어, 수학, 영어 점수를 차례대로 넣으세요:67 98 34\n",
            " 낙제입니다\n",
            "A 학점입니다.\n",
            " 낙제입니다\n"
          ],
          "name": "stdout"
        }
      ]
    },
    {
      "cell_type": "code",
      "metadata": {
        "id": "W4lJGz51cNqK",
        "colab_type": "code",
        "colab": {
          "base_uri": "https://localhost:8080/",
          "height": 197
        },
        "outputId": "6a78b6e2-0bae-4947-e72d-c7abe6cab056"
      },
      "source": [
        "for i in range(1,6,1):\n",
        "  a=input(\"점수는 :\")\n",
        "  a=int(a)\n",
        "  \n",
        "  if a>=90:\n",
        "    print(\"A 학점입니다.\")\n",
        "  elif a>=80:\n",
        "    pritn(\"B 학점입니다.\")\n",
        "  elif a>=70:\n",
        "    print(\"C 학점입니다.\")\n",
        "  else :\n",
        "    print(\" 낙제입니다\")\n",
        "  "
      ],
      "execution_count": 38,
      "outputs": [
        {
          "output_type": "stream",
          "text": [
            "점수는 :78\n",
            "C 학점입니다.\n",
            "점수는 :98\n",
            "A 학점입니다.\n",
            "점수는 :65\n",
            " 낙제입니다\n",
            "점수는 :74\n",
            "C 학점입니다.\n",
            "점수는 :98\n",
            "A 학점입니다.\n"
          ],
          "name": "stdout"
        }
      ]
    },
    {
      "cell_type": "code",
      "metadata": {
        "id": "En0JY8IFcvSP",
        "colab_type": "code",
        "colab": {
          "base_uri": "https://localhost:8080/",
          "height": 244
        },
        "outputId": "04a9dacd-a7b6-49b0-b5d3-8b8438eade69"
      },
      "source": [
        "\n",
        "while true:\n",
        "  a=int(input(\"점수를 입력하세요\"))\n",
        "  \n",
        "  if a>=90:\n",
        "    print(\"A 학점입니다.\")\n",
        "  elif a>=80:\n",
        "    pritn(\"B 학점입니다.\")\n",
        "  elif a>=70:\n",
        "    print(\"C 학점입니다.\")\n",
        "  else :\n",
        "    print(\" 낙제입니다\")\n",
        "\n",
        "  "
      ],
      "execution_count": 15,
      "outputs": [
        {
          "output_type": "error",
          "ename": "NameError",
          "evalue": "ignored",
          "traceback": [
            "\u001b[0;31m---------------------------------------------------------------------------\u001b[0m",
            "\u001b[0;31mNameError\u001b[0m                                 Traceback (most recent call last)",
            "\u001b[0;32m<ipython-input-15-962843ace000>\u001b[0m in \u001b[0;36m<module>\u001b[0;34m()\u001b[0m\n\u001b[1;32m      1\u001b[0m \u001b[0;34m\u001b[0m\u001b[0m\n\u001b[0;32m----> 2\u001b[0;31m \u001b[0;32mwhile\u001b[0m \u001b[0mtrue\u001b[0m\u001b[0;34m:\u001b[0m\u001b[0;34m\u001b[0m\u001b[0;34m\u001b[0m\u001b[0m\n\u001b[0m\u001b[1;32m      3\u001b[0m   \u001b[0ma\u001b[0m\u001b[0;34m=\u001b[0m\u001b[0mint\u001b[0m\u001b[0;34m(\u001b[0m\u001b[0minput\u001b[0m\u001b[0;34m(\u001b[0m\u001b[0;34m\"점수를 입력하세요\"\u001b[0m\u001b[0;34m)\u001b[0m\u001b[0;34m)\u001b[0m\u001b[0;34m\u001b[0m\u001b[0;34m\u001b[0m\u001b[0m\n\u001b[1;32m      4\u001b[0m \u001b[0;34m\u001b[0m\u001b[0m\n\u001b[1;32m      5\u001b[0m   \u001b[0;32mif\u001b[0m \u001b[0ma\u001b[0m\u001b[0;34m>=\u001b[0m\u001b[0;36m90\u001b[0m\u001b[0;34m:\u001b[0m\u001b[0;34m\u001b[0m\u001b[0;34m\u001b[0m\u001b[0m\n",
            "\u001b[0;31mNameError\u001b[0m: name 'true' is not defined"
          ]
        }
      ]
    },
    {
      "cell_type": "code",
      "metadata": {
        "id": "bw6cfALBgfIu",
        "colab_type": "code",
        "colab": {}
      },
      "source": [
        "def p(): #사용자 정의 함수 \n",
        "  print(\"hello world\")\n"
      ],
      "execution_count": 0,
      "outputs": []
    },
    {
      "cell_type": "code",
      "metadata": {
        "id": "b0Q0mE1-gnsH",
        "colab_type": "code",
        "colab": {
          "base_uri": "https://localhost:8080/",
          "height": 53
        },
        "outputId": "d95d53ba-6507-4e84-8a56-ee5a229a0119"
      },
      "source": [
        "print(p())"
      ],
      "execution_count": 41,
      "outputs": [
        {
          "output_type": "stream",
          "text": [
            "hello world\n",
            "None\n"
          ],
          "name": "stdout"
        }
      ]
    },
    {
      "cell_type": "code",
      "metadata": {
        "id": "hbRS2VmWgpvd",
        "colab_type": "code",
        "colab": {
          "base_uri": "https://localhost:8080/",
          "height": 35
        },
        "outputId": "af85a8e9-1648-4671-f426-1798edfd38fa"
      },
      "source": [
        "p()"
      ],
      "execution_count": 42,
      "outputs": [
        {
          "output_type": "stream",
          "text": [
            "hello world\n"
          ],
          "name": "stdout"
        }
      ]
    },
    {
      "cell_type": "code",
      "metadata": {
        "id": "zGjePguhhVjQ",
        "colab_type": "code",
        "colab": {}
      },
      "source": [
        "#함수 안에 들어가는 변수 :매개변수  plus(a,b=0)이라 하면 두번째 값을 안넣어도 에러가 나지 않는다 \n",
        "#a,b는 이 정의된 함수안에서만 유효 :지역변수 \n",
        "def plus(a,b):\n",
        "  print(a+b)\n"
      ],
      "execution_count": 0,
      "outputs": []
    },
    {
      "cell_type": "code",
      "metadata": {
        "id": "vWxRlJVvl-BQ",
        "colab_type": "code",
        "colab": {}
      },
      "source": [
        ""
      ],
      "execution_count": 0,
      "outputs": []
    },
    {
      "cell_type": "code",
      "metadata": {
        "id": "kLS6AcI5l-Z0",
        "colab_type": "code",
        "colab": {}
      },
      "source": [
        ""
      ],
      "execution_count": 0,
      "outputs": []
    },
    {
      "cell_type": "markdown",
      "metadata": {
        "id": "sY6Z2ylml_IF",
        "colab_type": "text"
      },
      "source": [
        ""
      ]
    },
    {
      "cell_type": "markdown",
      "metadata": {
        "id": "Qop-MzS7l_hl",
        "colab_type": "text"
      },
      "source": [
        ""
      ]
    },
    {
      "cell_type": "code",
      "metadata": {
        "id": "cKIjv9cyhzBU",
        "colab_type": "code",
        "colab": {
          "base_uri": "https://localhost:8080/",
          "height": 35
        },
        "outputId": "7dcc77bb-993e-4a57-8b39-3513217a9607"
      },
      "source": [
        "plus(10,5)"
      ],
      "execution_count": 44,
      "outputs": [
        {
          "output_type": "stream",
          "text": [
            "15\n"
          ],
          "name": "stdout"
        }
      ]
    },
    {
      "cell_type": "code",
      "metadata": {
        "id": "qVvLIIeCh2vI",
        "colab_type": "code",
        "colab": {}
      },
      "source": [
        "def print1(a, endA=\"\\n\"):\n",
        "  print(a, end=endA)"
      ],
      "execution_count": 0,
      "outputs": []
    },
    {
      "cell_type": "code",
      "metadata": {
        "id": "kc47ZzK5ilm8",
        "colab_type": "code",
        "colab": {
          "base_uri": "https://localhost:8080/",
          "height": 280
        },
        "outputId": "39911a85-ae8a-4616-b4ae-1196057906f1"
      },
      "source": [
        "print1(10, endA=\" \")\n",
        "print1(10, endA=\" \")\n",
        "\n"
      ],
      "execution_count": 52,
      "outputs": [
        {
          "output_type": "error",
          "ename": "TypeError",
          "evalue": "ignored",
          "traceback": [
            "\u001b[0;31m---------------------------------------------------------------------------\u001b[0m",
            "\u001b[0;31mTypeError\u001b[0m                                 Traceback (most recent call last)",
            "\u001b[0;32m<ipython-input-52-775b26c5ab21>\u001b[0m in \u001b[0;36m<module>\u001b[0;34m()\u001b[0m\n\u001b[0;32m----> 1\u001b[0;31m \u001b[0mprint1\u001b[0m\u001b[0;34m(\u001b[0m\u001b[0;36m10\u001b[0m\u001b[0;34m,\u001b[0m \u001b[0mendA\u001b[0m\u001b[0;34m=\u001b[0m\u001b[0;34m\" \"\u001b[0m\u001b[0;34m)\u001b[0m\u001b[0;34m\u001b[0m\u001b[0;34m\u001b[0m\u001b[0m\n\u001b[0m\u001b[1;32m      2\u001b[0m \u001b[0mprint1\u001b[0m\u001b[0;34m(\u001b[0m\u001b[0;36m10\u001b[0m\u001b[0;34m,\u001b[0m \u001b[0mendA\u001b[0m\u001b[0;34m=\u001b[0m\u001b[0;34m\" \"\u001b[0m\u001b[0;34m)\u001b[0m\u001b[0;34m\u001b[0m\u001b[0;34m\u001b[0m\u001b[0m\n\u001b[1;32m      3\u001b[0m \u001b[0;34m\u001b[0m\u001b[0m\n",
            "\u001b[0;32m<ipython-input-50-08ddd3cdb54c>\u001b[0m in \u001b[0;36mprint1\u001b[0;34m(a, endA)\u001b[0m\n\u001b[1;32m      1\u001b[0m \u001b[0;32mdef\u001b[0m \u001b[0mprint1\u001b[0m\u001b[0;34m(\u001b[0m\u001b[0ma\u001b[0m\u001b[0;34m,\u001b[0m \u001b[0mendA\u001b[0m\u001b[0;34m=\u001b[0m\u001b[0;34m\"\\n\"\u001b[0m\u001b[0;34m)\u001b[0m\u001b[0;34m:\u001b[0m\u001b[0;34m\u001b[0m\u001b[0;34m\u001b[0m\u001b[0m\n\u001b[0;32m----> 2\u001b[0;31m   \u001b[0mprint\u001b[0m\u001b[0;34m(\u001b[0m\u001b[0ma\u001b[0m\u001b[0;34m,\u001b[0m \u001b[0mend\u001b[0m\u001b[0;34m=\u001b[0m\u001b[0mendA\u001b[0m\u001b[0;34m)\u001b[0m\u001b[0;34m\u001b[0m\u001b[0;34m\u001b[0m\u001b[0m\n\u001b[0m",
            "\u001b[0;31mTypeError\u001b[0m: print() got an unexpected keyword argument 'end'"
          ]
        }
      ]
    },
    {
      "cell_type": "code",
      "metadata": {
        "id": "jlJMLquLipzC",
        "colab_type": "code",
        "colab": {}
      },
      "source": [
        ""
      ],
      "execution_count": 0,
      "outputs": []
    }
  ]
}