{
  "nbformat": 4,
  "nbformat_minor": 0,
  "metadata": {
    "colab": {
      "name": "사이킷런_타이타닉예측.ipynb",
      "provenance": [],
      "authorship_tag": "ABX9TyMSGB6nRdc2mChCMGoY/t+Y",
      "include_colab_link": true
    },
    "kernelspec": {
      "name": "python3",
      "display_name": "Python 3"
    }
  },
  "cells": [
    {
      "cell_type": "markdown",
      "metadata": {
        "id": "view-in-github",
        "colab_type": "text"
      },
      "source": [
        "<a href=\"https://colab.research.google.com/github/bigdatastudy-jiyoung/test/blob/master/%EC%82%AC%EC%9D%B4%ED%82%B7%EB%9F%B0_%ED%83%80%EC%9D%B4%ED%83%80%EB%8B%89%EC%98%88%EC%B8%A1.ipynb\" target=\"_parent\"><img src=\"https://colab.research.google.com/assets/colab-badge.svg\" alt=\"Open In Colab\"/></a>"
      ]
    },
    {
      "cell_type": "code",
      "metadata": {
        "id": "76pemyvTtbqd",
        "colab_type": "code",
        "colab": {
          "base_uri": "https://localhost:8080/",
          "height": 326
        },
        "outputId": "f6e8803c-71dd-4001-c91b-a3f1d528bd4c"
      },
      "source": [
        "import numpy as np\n",
        "import pandas as pd\n",
        "import matplotlib.pyplot as plt\n",
        "import seaborn as sns\n",
        "%matplotlib inline\n",
        "\n",
        "\n",
        "titanic_df=pd.read_csv(\"train.csv\")\n",
        "titanic_df.head()"
      ],
      "execution_count": 2,
      "outputs": [
        {
          "output_type": "stream",
          "text": [
            "/usr/local/lib/python3.6/dist-packages/statsmodels/tools/_testing.py:19: FutureWarning: pandas.util.testing is deprecated. Use the functions in the public API at pandas.testing instead.\n",
            "  import pandas.util.testing as tm\n"
          ],
          "name": "stderr"
        },
        {
          "output_type": "execute_result",
          "data": {
            "text/html": [
              "<div>\n",
              "<style scoped>\n",
              "    .dataframe tbody tr th:only-of-type {\n",
              "        vertical-align: middle;\n",
              "    }\n",
              "\n",
              "    .dataframe tbody tr th {\n",
              "        vertical-align: top;\n",
              "    }\n",
              "\n",
              "    .dataframe thead th {\n",
              "        text-align: right;\n",
              "    }\n",
              "</style>\n",
              "<table border=\"1\" class=\"dataframe\">\n",
              "  <thead>\n",
              "    <tr style=\"text-align: right;\">\n",
              "      <th></th>\n",
              "      <th>PassengerId</th>\n",
              "      <th>Survived</th>\n",
              "      <th>Pclass</th>\n",
              "      <th>Name</th>\n",
              "      <th>Sex</th>\n",
              "      <th>Age</th>\n",
              "      <th>SibSp</th>\n",
              "      <th>Parch</th>\n",
              "      <th>Ticket</th>\n",
              "      <th>Fare</th>\n",
              "      <th>Cabin</th>\n",
              "      <th>Embarked</th>\n",
              "    </tr>\n",
              "  </thead>\n",
              "  <tbody>\n",
              "    <tr>\n",
              "      <th>0</th>\n",
              "      <td>1</td>\n",
              "      <td>0</td>\n",
              "      <td>3</td>\n",
              "      <td>Braund, Mr. Owen Harris</td>\n",
              "      <td>male</td>\n",
              "      <td>22.0</td>\n",
              "      <td>1</td>\n",
              "      <td>0</td>\n",
              "      <td>A/5 21171</td>\n",
              "      <td>7.2500</td>\n",
              "      <td>NaN</td>\n",
              "      <td>S</td>\n",
              "    </tr>\n",
              "    <tr>\n",
              "      <th>1</th>\n",
              "      <td>2</td>\n",
              "      <td>1</td>\n",
              "      <td>1</td>\n",
              "      <td>Cumings, Mrs. John Bradley (Florence Briggs Th...</td>\n",
              "      <td>female</td>\n",
              "      <td>38.0</td>\n",
              "      <td>1</td>\n",
              "      <td>0</td>\n",
              "      <td>PC 17599</td>\n",
              "      <td>71.2833</td>\n",
              "      <td>C85</td>\n",
              "      <td>C</td>\n",
              "    </tr>\n",
              "    <tr>\n",
              "      <th>2</th>\n",
              "      <td>3</td>\n",
              "      <td>1</td>\n",
              "      <td>3</td>\n",
              "      <td>Heikkinen, Miss. Laina</td>\n",
              "      <td>female</td>\n",
              "      <td>26.0</td>\n",
              "      <td>0</td>\n",
              "      <td>0</td>\n",
              "      <td>STON/O2. 3101282</td>\n",
              "      <td>7.9250</td>\n",
              "      <td>NaN</td>\n",
              "      <td>S</td>\n",
              "    </tr>\n",
              "    <tr>\n",
              "      <th>3</th>\n",
              "      <td>4</td>\n",
              "      <td>1</td>\n",
              "      <td>1</td>\n",
              "      <td>Futrelle, Mrs. Jacques Heath (Lily May Peel)</td>\n",
              "      <td>female</td>\n",
              "      <td>35.0</td>\n",
              "      <td>1</td>\n",
              "      <td>0</td>\n",
              "      <td>113803</td>\n",
              "      <td>53.1000</td>\n",
              "      <td>C123</td>\n",
              "      <td>S</td>\n",
              "    </tr>\n",
              "    <tr>\n",
              "      <th>4</th>\n",
              "      <td>5</td>\n",
              "      <td>0</td>\n",
              "      <td>3</td>\n",
              "      <td>Allen, Mr. William Henry</td>\n",
              "      <td>male</td>\n",
              "      <td>35.0</td>\n",
              "      <td>0</td>\n",
              "      <td>0</td>\n",
              "      <td>373450</td>\n",
              "      <td>8.0500</td>\n",
              "      <td>NaN</td>\n",
              "      <td>S</td>\n",
              "    </tr>\n",
              "  </tbody>\n",
              "</table>\n",
              "</div>"
            ],
            "text/plain": [
              "   PassengerId  Survived  Pclass  ...     Fare Cabin  Embarked\n",
              "0            1         0       3  ...   7.2500   NaN         S\n",
              "1            2         1       1  ...  71.2833   C85         C\n",
              "2            3         1       3  ...   7.9250   NaN         S\n",
              "3            4         1       1  ...  53.1000  C123         S\n",
              "4            5         0       3  ...   8.0500   NaN         S\n",
              "\n",
              "[5 rows x 12 columns]"
            ]
          },
          "metadata": {
            "tags": []
          },
          "execution_count": 2
        }
      ]
    },
    {
      "cell_type": "code",
      "metadata": {
        "id": "3kGmed-juIc6",
        "colab_type": "code",
        "colab": {
          "base_uri": "https://localhost:8080/",
          "height": 340
        },
        "outputId": "4ec66329-9c78-4371-ee80-2c932c3d0b29"
      },
      "source": [
        "# 결측치 확인 및 대치 \n",
        "titanic_df.info()"
      ],
      "execution_count": 3,
      "outputs": [
        {
          "output_type": "stream",
          "text": [
            "<class 'pandas.core.frame.DataFrame'>\n",
            "RangeIndex: 891 entries, 0 to 890\n",
            "Data columns (total 12 columns):\n",
            " #   Column       Non-Null Count  Dtype  \n",
            "---  ------       --------------  -----  \n",
            " 0   PassengerId  891 non-null    int64  \n",
            " 1   Survived     891 non-null    int64  \n",
            " 2   Pclass       891 non-null    int64  \n",
            " 3   Name         891 non-null    object \n",
            " 4   Sex          891 non-null    object \n",
            " 5   Age          714 non-null    float64\n",
            " 6   SibSp        891 non-null    int64  \n",
            " 7   Parch        891 non-null    int64  \n",
            " 8   Ticket       891 non-null    object \n",
            " 9   Fare         891 non-null    float64\n",
            " 10  Cabin        204 non-null    object \n",
            " 11  Embarked     889 non-null    object \n",
            "dtypes: float64(2), int64(5), object(5)\n",
            "memory usage: 83.7+ KB\n"
          ],
          "name": "stdout"
        }
      ]
    },
    {
      "cell_type": "code",
      "metadata": {
        "id": "EBFHrUIvuh54",
        "colab_type": "code",
        "colab": {
          "base_uri": "https://localhost:8080/",
          "height": 238
        },
        "outputId": "a5fe67ef-e83e-4a93-e164-323f197d24e0"
      },
      "source": [
        "titanic_df.isna().sum()"
      ],
      "execution_count": 4,
      "outputs": [
        {
          "output_type": "execute_result",
          "data": {
            "text/plain": [
              "PassengerId      0\n",
              "Survived         0\n",
              "Pclass           0\n",
              "Name             0\n",
              "Sex              0\n",
              "Age            177\n",
              "SibSp            0\n",
              "Parch            0\n",
              "Ticket           0\n",
              "Fare             0\n",
              "Cabin          687\n",
              "Embarked         2\n",
              "dtype: int64"
            ]
          },
          "metadata": {
            "tags": []
          },
          "execution_count": 4
        }
      ]
    },
    {
      "cell_type": "code",
      "metadata": {
        "id": "_nklf566utyO",
        "colab_type": "code",
        "colab": {}
      },
      "source": [
        "titanic_df[\"Age\"].fillna(titanic_df[\"Age\"].mean(),inplace=True)\n",
        "titanic_df[\"Cabin\"].fillna('N',inplace=True)\n",
        "titanic_df['Embarked'].fillna('N',inplace=True)\n"
      ],
      "execution_count": 5,
      "outputs": []
    },
    {
      "cell_type": "code",
      "metadata": {
        "id": "gMdgKRx1vxpV",
        "colab_type": "code",
        "colab": {
          "base_uri": "https://localhost:8080/",
          "height": 34
        },
        "outputId": "41e9f0e3-d312-4504-bae7-860deb16c6de"
      },
      "source": [
        "titanic_df.isnull().sum().sum()"
      ],
      "execution_count": 6,
      "outputs": [
        {
          "output_type": "execute_result",
          "data": {
            "text/plain": [
              "0"
            ]
          },
          "metadata": {
            "tags": []
          },
          "execution_count": 6
        }
      ]
    },
    {
      "cell_type": "code",
      "metadata": {
        "id": "UZd04ByXv3Qj",
        "colab_type": "code",
        "colab": {}
      },
      "source": [
        "def get_category(age):\n",
        "  cat=''\n",
        "  if age<=5:cat=\"Baby\"\n",
        "  elif age<=12: cat='Child'\n",
        "  elif age<=18: cat='Teenager'\n",
        "  elif age<=25: cat='Student'\n",
        "  elif age<=35: cat='Young Adult'\n",
        "  elif age<=60: cat='Adult'\n",
        "  else :cat='Elderly'\n",
        "\n",
        "  return cat \n",
        "\n",
        "  "
      ],
      "execution_count": 7,
      "outputs": []
    },
    {
      "cell_type": "code",
      "metadata": {
        "id": "SdPLVD-rxer4",
        "colab_type": "code",
        "colab": {}
      },
      "source": [
        "titanic_df['Age_cat']=titanic_df['Age'].apply(lambda x: get_category(x))"
      ],
      "execution_count": 8,
      "outputs": []
    },
    {
      "cell_type": "code",
      "metadata": {
        "id": "OwVRnYKBxyfJ",
        "colab_type": "code",
        "colab": {
          "base_uri": "https://localhost:8080/",
          "height": 153
        },
        "outputId": "2a081703-24d5-44ff-d41e-faddd03f29e2"
      },
      "source": [
        "titanic_df['Age_cat'].value_counts()"
      ],
      "execution_count": 9,
      "outputs": [
        {
          "output_type": "execute_result",
          "data": {
            "text/plain": [
              "Young Adult    373\n",
              "Adult          195\n",
              "Student        162\n",
              "Teenager        70\n",
              "Baby            44\n",
              "Child           25\n",
              "Elderly         22\n",
              "Name: Age_cat, dtype: int64"
            ]
          },
          "metadata": {
            "tags": []
          },
          "execution_count": 9
        }
      ]
    },
    {
      "cell_type": "code",
      "metadata": {
        "id": "eohQCmR-x1cr",
        "colab_type": "code",
        "colab": {
          "base_uri": "https://localhost:8080/",
          "height": 340
        },
        "outputId": "74d7b21a-a8f8-4402-ecb1-61ef24cefd24"
      },
      "source": [
        "from sklearn import preprocessing\n",
        "\n",
        "def encode_features(dataDF):\n",
        "  features=['Cabin','Sex','Embarked']\n",
        "  for feature in features:\n",
        "    le=preprocessing.LabelEncoder()\n",
        "    le=le.fit(dataDF[feature])\n",
        "    dataDF[feature]=le.transform(dataDF[feature])\n",
        "  \n",
        "  return dataDF\n",
        "\n",
        "titanic_df=encode_features(titanic_df)\n",
        "titanic_df.head()"
      ],
      "execution_count": 10,
      "outputs": [
        {
          "output_type": "execute_result",
          "data": {
            "text/html": [
              "<div>\n",
              "<style scoped>\n",
              "    .dataframe tbody tr th:only-of-type {\n",
              "        vertical-align: middle;\n",
              "    }\n",
              "\n",
              "    .dataframe tbody tr th {\n",
              "        vertical-align: top;\n",
              "    }\n",
              "\n",
              "    .dataframe thead th {\n",
              "        text-align: right;\n",
              "    }\n",
              "</style>\n",
              "<table border=\"1\" class=\"dataframe\">\n",
              "  <thead>\n",
              "    <tr style=\"text-align: right;\">\n",
              "      <th></th>\n",
              "      <th>PassengerId</th>\n",
              "      <th>Survived</th>\n",
              "      <th>Pclass</th>\n",
              "      <th>Name</th>\n",
              "      <th>Sex</th>\n",
              "      <th>Age</th>\n",
              "      <th>SibSp</th>\n",
              "      <th>Parch</th>\n",
              "      <th>Ticket</th>\n",
              "      <th>Fare</th>\n",
              "      <th>Cabin</th>\n",
              "      <th>Embarked</th>\n",
              "      <th>Age_cat</th>\n",
              "    </tr>\n",
              "  </thead>\n",
              "  <tbody>\n",
              "    <tr>\n",
              "      <th>0</th>\n",
              "      <td>1</td>\n",
              "      <td>0</td>\n",
              "      <td>3</td>\n",
              "      <td>Braund, Mr. Owen Harris</td>\n",
              "      <td>1</td>\n",
              "      <td>22.0</td>\n",
              "      <td>1</td>\n",
              "      <td>0</td>\n",
              "      <td>A/5 21171</td>\n",
              "      <td>7.2500</td>\n",
              "      <td>146</td>\n",
              "      <td>3</td>\n",
              "      <td>Student</td>\n",
              "    </tr>\n",
              "    <tr>\n",
              "      <th>1</th>\n",
              "      <td>2</td>\n",
              "      <td>1</td>\n",
              "      <td>1</td>\n",
              "      <td>Cumings, Mrs. John Bradley (Florence Briggs Th...</td>\n",
              "      <td>0</td>\n",
              "      <td>38.0</td>\n",
              "      <td>1</td>\n",
              "      <td>0</td>\n",
              "      <td>PC 17599</td>\n",
              "      <td>71.2833</td>\n",
              "      <td>81</td>\n",
              "      <td>0</td>\n",
              "      <td>Adult</td>\n",
              "    </tr>\n",
              "    <tr>\n",
              "      <th>2</th>\n",
              "      <td>3</td>\n",
              "      <td>1</td>\n",
              "      <td>3</td>\n",
              "      <td>Heikkinen, Miss. Laina</td>\n",
              "      <td>0</td>\n",
              "      <td>26.0</td>\n",
              "      <td>0</td>\n",
              "      <td>0</td>\n",
              "      <td>STON/O2. 3101282</td>\n",
              "      <td>7.9250</td>\n",
              "      <td>146</td>\n",
              "      <td>3</td>\n",
              "      <td>Young Adult</td>\n",
              "    </tr>\n",
              "    <tr>\n",
              "      <th>3</th>\n",
              "      <td>4</td>\n",
              "      <td>1</td>\n",
              "      <td>1</td>\n",
              "      <td>Futrelle, Mrs. Jacques Heath (Lily May Peel)</td>\n",
              "      <td>0</td>\n",
              "      <td>35.0</td>\n",
              "      <td>1</td>\n",
              "      <td>0</td>\n",
              "      <td>113803</td>\n",
              "      <td>53.1000</td>\n",
              "      <td>55</td>\n",
              "      <td>3</td>\n",
              "      <td>Young Adult</td>\n",
              "    </tr>\n",
              "    <tr>\n",
              "      <th>4</th>\n",
              "      <td>5</td>\n",
              "      <td>0</td>\n",
              "      <td>3</td>\n",
              "      <td>Allen, Mr. William Henry</td>\n",
              "      <td>1</td>\n",
              "      <td>35.0</td>\n",
              "      <td>0</td>\n",
              "      <td>0</td>\n",
              "      <td>373450</td>\n",
              "      <td>8.0500</td>\n",
              "      <td>146</td>\n",
              "      <td>3</td>\n",
              "      <td>Young Adult</td>\n",
              "    </tr>\n",
              "  </tbody>\n",
              "</table>\n",
              "</div>"
            ],
            "text/plain": [
              "   PassengerId  Survived  Pclass  ... Cabin  Embarked      Age_cat\n",
              "0            1         0       3  ...   146         3      Student\n",
              "1            2         1       1  ...    81         0        Adult\n",
              "2            3         1       3  ...   146         3  Young Adult\n",
              "3            4         1       1  ...    55         3  Young Adult\n",
              "4            5         0       3  ...   146         3  Young Adult\n",
              "\n",
              "[5 rows x 13 columns]"
            ]
          },
          "metadata": {
            "tags": []
          },
          "execution_count": 10
        }
      ]
    },
    {
      "cell_type": "code",
      "metadata": {
        "id": "WiCHg24L8WB_",
        "colab_type": "code",
        "colab": {
          "base_uri": "https://localhost:8080/",
          "height": 68
        },
        "outputId": "426e7170-6fb8-42cd-c937-2b610ac00e99"
      },
      "source": [
        "titanic_df.columns"
      ],
      "execution_count": 11,
      "outputs": [
        {
          "output_type": "execute_result",
          "data": {
            "text/plain": [
              "Index(['PassengerId', 'Survived', 'Pclass', 'Name', 'Sex', 'Age', 'SibSp',\n",
              "       'Parch', 'Ticket', 'Fare', 'Cabin', 'Embarked', 'Age_cat'],\n",
              "      dtype='object')"
            ]
          },
          "metadata": {
            "tags": []
          },
          "execution_count": 11
        }
      ]
    },
    {
      "cell_type": "code",
      "metadata": {
        "id": "p3zWzrmv6BGT",
        "colab_type": "code",
        "colab": {}
      },
      "source": [
        "from sklearn.preprocessing import LabelEncoder\n",
        "\n",
        "#Null 처리함수 \n",
        "def fillna(df):\n",
        "  df['Age'].fillna(df['Age'].mean(),inplace=True)\n",
        "  df['Cabin'].fillna('N',inplace=True)\n",
        "  df['Embarked'].fillna('N',inplace=True)\n",
        "  df['Fare'].fillna(0, inplace=True)\n",
        "  return df\n",
        "\n",
        "# 머신러닝 알고리즘에 불필요한 속성 제거 \n",
        "def drop_features(df):\n",
        "  df.drop(['PassengerId','Name','Ticket'],axis=1, inplace=True)\n",
        "  return df\n",
        "\n",
        "# 레이블 인코딩 수행 \n",
        "def format_features(df):\n",
        "  df['Cabin']=df['Cabin'].str[:1]\n",
        "  features=['Cabin','Sex','Embarked']\n",
        "  for feature in features:\n",
        "    le=LabelEncoder()\n",
        "    le.fit(df[feature])\n",
        "    df[feature]=le.transform(df[feature])\n",
        "  return df\n",
        "\n",
        "# 앞에서 설정한 Data Preprocessing 함수 호출\n",
        "\n",
        "def transform_features(df):\n",
        "  df=fillna(df)\n",
        "  df=drop_features(df)\n",
        "  df=format_features(df)\n",
        "  return df\n"
      ],
      "execution_count": 12,
      "outputs": []
    },
    {
      "cell_type": "code",
      "metadata": {
        "id": "QxIN5W8b9uCn",
        "colab_type": "code",
        "colab": {}
      },
      "source": [
        "#원본데이터 재로딩 하고, feature 데이터셋과  Label 데이터 셋 추출 \n",
        "titanic_df=pd.read_csv('train.csv')\n",
        "y_titanic_df=titanic_df['Survived']\n",
        "x_titanic_df=titanic_df.drop('Survived',axis=1)\n",
        "\n",
        "x_titanic_df=transform_features(x_titanic_df)"
      ],
      "execution_count": 14,
      "outputs": []
    },
    {
      "cell_type": "code",
      "metadata": {
        "id": "4MUX0yMg-xz1",
        "colab_type": "code",
        "colab": {}
      },
      "source": [
        "from sklearn.model_selection import train_test_split\n",
        "X_train, X_test, y_train, y_test=train_test_split(x_titanic_df, y_titanic_df,\n",
        "                                                  test_size=0.2, random_state=11)"
      ],
      "execution_count": 15,
      "outputs": []
    },
    {
      "cell_type": "code",
      "metadata": {
        "id": "KbAJ-Ym6_J5d",
        "colab_type": "code",
        "colab": {}
      },
      "source": [
        "from sklearn.tree import DecisionTreeClassifier\n",
        "from sklearn.ensemble import RandomForestClassifier\n",
        "from sklearn.linear_model import LogisticRegression\n",
        "from sklearn.metrics import accuracy_score"
      ],
      "execution_count": 16,
      "outputs": []
    },
    {
      "cell_type": "code",
      "metadata": {
        "id": "0LLojyhh_kVQ",
        "colab_type": "code",
        "colab": {
          "base_uri": "https://localhost:8080/",
          "height": 224
        },
        "outputId": "f2cf6536-b9bc-4a64-c8cd-18876203742a"
      },
      "source": [
        "#모델 객체를 만들고 \n",
        "dt_clf=DecisionTreeClassifier(random_state=11)\n",
        "rf_clf=RandomForestClassifier(random_state=11)\n",
        "lr_clf=LogisticRegression()\n",
        "\n",
        "#결정트리 학습, 평가 \n",
        "dt_clf.fit(X_train, y_train)\n",
        "dt_pred=dt_clf.predict(X_test)\n",
        "print(\"결정트리 정확도 : {0:.4f}\".format( accuracy_score(y_test, dt_pred)))\n",
        "\n",
        "# 랜덤포레스트 학습, 평가 \n",
        "rf_clf.fit(X_train, y_train)\n",
        "rf_pred=rf_clf.predict(X_test)\n",
        "print(\"랜덤포레스트 정확도 :{0:.4f}\".format(accuracy_score(y_test, rf_pred)))\n",
        "\n",
        "# 로지스틱 학습, 평가 \n",
        "lr_clf.fit(X_train, y_train)\n",
        "lr_pred=lr_clf.predict(X_test)\n",
        "print(\"로지스틱 정확도 : {0:.4f}\".format(accuracy_score(y_test, lr_pred)))"
      ],
      "execution_count": 17,
      "outputs": [
        {
          "output_type": "stream",
          "text": [
            "결정트리 정확도 : 0.7877\n",
            "랜덤포레스트 정확도 :0.8547\n",
            "로지스틱 정확도 : 0.8492\n"
          ],
          "name": "stdout"
        },
        {
          "output_type": "stream",
          "text": [
            "/usr/local/lib/python3.6/dist-packages/sklearn/linear_model/_logistic.py:940: ConvergenceWarning: lbfgs failed to converge (status=1):\n",
            "STOP: TOTAL NO. of ITERATIONS REACHED LIMIT.\n",
            "\n",
            "Increase the number of iterations (max_iter) or scale the data as shown in:\n",
            "    https://scikit-learn.org/stable/modules/preprocessing.html\n",
            "Please also refer to the documentation for alternative solver options:\n",
            "    https://scikit-learn.org/stable/modules/linear_model.html#logistic-regression\n",
            "  extra_warning_msg=_LOGISTIC_SOLVER_CONVERGENCE_MSG)\n"
          ],
          "name": "stderr"
        }
      ]
    },
    {
      "cell_type": "code",
      "metadata": {
        "id": "C7F1WVKKAhZL",
        "colab_type": "code",
        "colab": {}
      },
      "source": [
        "#검증 \n",
        "from sklearn.model_selection import KFold\n",
        "\n",
        "def exec_kfold(clf, folds=5):\n",
        "  # 폴드 수 만큼 예측결과 저장을 위한 리스트 객체 생성.\n",
        "  kfold=KFold(n_splits=folds)\n",
        "  scores=[]\n",
        "  \n",
        "  #KFold 교차 검증 수행\n",
        "  for iter_count,(train_index, test_index) in enumerate(kfold.split(x_titanic_df)):\n",
        "    X_train, X_test=x_titanic_df.values[train_index], x_titanic_df.values[test_index]\n",
        "    y_train, y_test=y_titanic_df.values[train_index], y_titanic_df.values[test_index]\n",
        "\n",
        "    clf.fit(X_train, y_train)\n",
        "    predictions=clf.predict(X_test)\n",
        "    accuracy=accuracy_score(y_test, predictions)\n",
        "    scores.append(accuracy)\n",
        "    print(\"교차 검증 {0} 정확도  :{0:.4f}\".format(iter_count, accuracy))\n",
        "\n",
        "  mean_score=np.mean(scores) #scores 는 리스트 형태이므로 \n",
        "  print(\"평균 정확도 : {0:.4f}\".format(mean_score))\n",
        "\n",
        "\n"
      ],
      "execution_count": 20,
      "outputs": []
    },
    {
      "cell_type": "code",
      "metadata": {
        "id": "913ySpYXJCJP",
        "colab_type": "code",
        "colab": {
          "base_uri": "https://localhost:8080/",
          "height": 119
        },
        "outputId": "143eea2b-c6ed-4120-bdda-1bf08b805092"
      },
      "source": [
        "exec_kfold(dt_clf, folds=5)"
      ],
      "execution_count": 21,
      "outputs": [
        {
          "output_type": "stream",
          "text": [
            "교차 검증 0 정확도  :0.0000\n",
            "교차 검증 1 정확도  :1.0000\n",
            "교차 검증 2 정확도  :2.0000\n",
            "교차 검증 3 정확도  :3.0000\n",
            "교차 검증 4 정확도  :4.0000\n",
            "평균 정확도 : 0.7823\n"
          ],
          "name": "stdout"
        }
      ]
    },
    {
      "cell_type": "code",
      "metadata": {
        "id": "bmrfC-1qKKok",
        "colab_type": "code",
        "colab": {
          "base_uri": "https://localhost:8080/",
          "height": 119
        },
        "outputId": "183860b1-e54c-4a29-d355-b126e3b4d48f"
      },
      "source": [
        "from sklearn.model_selection import cross_val_score\n",
        "\n",
        "scores=cross_val_score(dt_clf,x_titanic_df, y_titanic_df, cv=5)\n",
        "for iter_count, accuracy in enumerate(scores):\n",
        "  print(\"교차검증 {0} 정확도 {1:.4f}\".format(iter_count, accuracy))\n",
        "\n",
        "print(\"평균 정확도 : {0:.4f}\".format(np.mean(scores)))"
      ],
      "execution_count": 25,
      "outputs": [
        {
          "output_type": "stream",
          "text": [
            "교차검증 0 정확도 0.7430\n",
            "교차검증 1 정확도 0.7753\n",
            "교차검증 2 정확도 0.7921\n",
            "교차검증 3 정확도 0.7865\n",
            "교차검증 4 정확도 0.8427\n",
            "평균 정확도 : 0.7879\n"
          ],
          "name": "stdout"
        }
      ]
    },
    {
      "cell_type": "code",
      "metadata": {
        "id": "_IvNlWk5N6ht",
        "colab_type": "code",
        "colab": {
          "base_uri": "https://localhost:8080/",
          "height": 68
        },
        "outputId": "95d7f8b2-47fa-4eb2-f08e-0899b69d233b"
      },
      "source": [
        "from sklearn.model_selection import GridSearchCV\n",
        "parameters={'max_depth':[2,3,5,10],\n",
        "            'min_samples_split':[2,3,5],'min_samples_leaf':[1,5,8]}\n",
        "\n",
        "grid_dclf=GridSearchCV(dt_clf, param_grid=parameters ,scoring='accuracy', cv=5)\n",
        "grid_dclf.fit(X_train, y_train)\n",
        "\n",
        "print(\"최적 파라미터 :\", grid_dclf.best_params_)\n",
        "print(\"최고 정확도 : {0:.4f}\".format(grid_dclf.best_score_))\n",
        "best_dclf=grid_dclf.best_estimator_\n",
        "\n",
        "dpredictions=best_dclf.predict(X_test)\n",
        "accuracy=accuracy_score(y_test, dpredictions)\n",
        "print('테스트 세트에서의 결정트리 정확도 :{0:.4f}'.format(accuracy))"
      ],
      "execution_count": 26,
      "outputs": [
        {
          "output_type": "stream",
          "text": [
            "최적 파라미터 : {'max_depth': 3, 'min_samples_leaf': 5, 'min_samples_split': 2}\n",
            "최고 정확도 : 0.7992\n",
            "테스트 세트에서의 결정트리 정확도 :0.8715\n"
          ],
          "name": "stdout"
        }
      ]
    },
    {
      "cell_type": "code",
      "metadata": {
        "id": "ifIVMRPNQh5z",
        "colab_type": "code",
        "colab": {}
      },
      "source": [
        ""
      ],
      "execution_count": null,
      "outputs": []
    }
  ]
}